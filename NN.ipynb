{
 "metadata": {
  "language_info": {
   "codemirror_mode": {
    "name": "ipython",
    "version": 3
   },
   "file_extension": ".py",
   "mimetype": "text/x-python",
   "name": "python",
   "nbconvert_exporter": "python",
   "pygments_lexer": "ipython3",
   "version": "3.8.10"
  },
  "orig_nbformat": 4,
  "kernelspec": {
   "name": "python3",
   "display_name": "Python 3.8.10 64-bit ('ml': conda)"
  },
  "interpreter": {
   "hash": "e647baf2a2b3bc8f4cff3ece6d7b666051dc6ebc1e637bf929e446d80dc32a3d"
  }
 },
 "nbformat": 4,
 "nbformat_minor": 2,
 "cells": [
  {
   "cell_type": "code",
   "execution_count": 1,
   "metadata": {},
   "outputs": [],
   "source": [
    "import pandas as pd\n",
    "import numpy as np\n",
    "import matplotlib.pyplot as plt"
   ]
  },
  {
   "cell_type": "code",
   "execution_count": 2,
   "metadata": {},
   "outputs": [],
   "source": [
    "location = \"/mnt/ntfs2/Development/python/\""
   ]
  },
  {
   "cell_type": "code",
   "execution_count": 3,
   "metadata": {},
   "outputs": [],
   "source": [
    "data = pd.read_csv(location+\"NN-from-Scratch/data/train.csv\")"
   ]
  },
  {
   "cell_type": "code",
   "execution_count": 4,
   "metadata": {},
   "outputs": [
    {
     "output_type": "execute_result",
     "data": {
      "text/plain": [
       "   label  pixel0  pixel1  pixel2  pixel3  pixel4  pixel5  pixel6  pixel7  \\\n",
       "0      1       0       0       0       0       0       0       0       0   \n",
       "1      0       0       0       0       0       0       0       0       0   \n",
       "2      1       0       0       0       0       0       0       0       0   \n",
       "3      4       0       0       0       0       0       0       0       0   \n",
       "4      0       0       0       0       0       0       0       0       0   \n",
       "\n",
       "   pixel8  ...  pixel774  pixel775  pixel776  pixel777  pixel778  pixel779  \\\n",
       "0       0  ...         0         0         0         0         0         0   \n",
       "1       0  ...         0         0         0         0         0         0   \n",
       "2       0  ...         0         0         0         0         0         0   \n",
       "3       0  ...         0         0         0         0         0         0   \n",
       "4       0  ...         0         0         0         0         0         0   \n",
       "\n",
       "   pixel780  pixel781  pixel782  pixel783  \n",
       "0         0         0         0         0  \n",
       "1         0         0         0         0  \n",
       "2         0         0         0         0  \n",
       "3         0         0         0         0  \n",
       "4         0         0         0         0  \n",
       "\n",
       "[5 rows x 785 columns]"
      ],
      "text/html": "<div>\n<style scoped>\n    .dataframe tbody tr th:only-of-type {\n        vertical-align: middle;\n    }\n\n    .dataframe tbody tr th {\n        vertical-align: top;\n    }\n\n    .dataframe thead th {\n        text-align: right;\n    }\n</style>\n<table border=\"1\" class=\"dataframe\">\n  <thead>\n    <tr style=\"text-align: right;\">\n      <th></th>\n      <th>label</th>\n      <th>pixel0</th>\n      <th>pixel1</th>\n      <th>pixel2</th>\n      <th>pixel3</th>\n      <th>pixel4</th>\n      <th>pixel5</th>\n      <th>pixel6</th>\n      <th>pixel7</th>\n      <th>pixel8</th>\n      <th>...</th>\n      <th>pixel774</th>\n      <th>pixel775</th>\n      <th>pixel776</th>\n      <th>pixel777</th>\n      <th>pixel778</th>\n      <th>pixel779</th>\n      <th>pixel780</th>\n      <th>pixel781</th>\n      <th>pixel782</th>\n      <th>pixel783</th>\n    </tr>\n  </thead>\n  <tbody>\n    <tr>\n      <th>0</th>\n      <td>1</td>\n      <td>0</td>\n      <td>0</td>\n      <td>0</td>\n      <td>0</td>\n      <td>0</td>\n      <td>0</td>\n      <td>0</td>\n      <td>0</td>\n      <td>0</td>\n      <td>...</td>\n      <td>0</td>\n      <td>0</td>\n      <td>0</td>\n      <td>0</td>\n      <td>0</td>\n      <td>0</td>\n      <td>0</td>\n      <td>0</td>\n      <td>0</td>\n      <td>0</td>\n    </tr>\n    <tr>\n      <th>1</th>\n      <td>0</td>\n      <td>0</td>\n      <td>0</td>\n      <td>0</td>\n      <td>0</td>\n      <td>0</td>\n      <td>0</td>\n      <td>0</td>\n      <td>0</td>\n      <td>0</td>\n      <td>...</td>\n      <td>0</td>\n      <td>0</td>\n      <td>0</td>\n      <td>0</td>\n      <td>0</td>\n      <td>0</td>\n      <td>0</td>\n      <td>0</td>\n      <td>0</td>\n      <td>0</td>\n    </tr>\n    <tr>\n      <th>2</th>\n      <td>1</td>\n      <td>0</td>\n      <td>0</td>\n      <td>0</td>\n      <td>0</td>\n      <td>0</td>\n      <td>0</td>\n      <td>0</td>\n      <td>0</td>\n      <td>0</td>\n      <td>...</td>\n      <td>0</td>\n      <td>0</td>\n      <td>0</td>\n      <td>0</td>\n      <td>0</td>\n      <td>0</td>\n      <td>0</td>\n      <td>0</td>\n      <td>0</td>\n      <td>0</td>\n    </tr>\n    <tr>\n      <th>3</th>\n      <td>4</td>\n      <td>0</td>\n      <td>0</td>\n      <td>0</td>\n      <td>0</td>\n      <td>0</td>\n      <td>0</td>\n      <td>0</td>\n      <td>0</td>\n      <td>0</td>\n      <td>...</td>\n      <td>0</td>\n      <td>0</td>\n      <td>0</td>\n      <td>0</td>\n      <td>0</td>\n      <td>0</td>\n      <td>0</td>\n      <td>0</td>\n      <td>0</td>\n      <td>0</td>\n    </tr>\n    <tr>\n      <th>4</th>\n      <td>0</td>\n      <td>0</td>\n      <td>0</td>\n      <td>0</td>\n      <td>0</td>\n      <td>0</td>\n      <td>0</td>\n      <td>0</td>\n      <td>0</td>\n      <td>0</td>\n      <td>...</td>\n      <td>0</td>\n      <td>0</td>\n      <td>0</td>\n      <td>0</td>\n      <td>0</td>\n      <td>0</td>\n      <td>0</td>\n      <td>0</td>\n      <td>0</td>\n      <td>0</td>\n    </tr>\n  </tbody>\n</table>\n<p>5 rows × 785 columns</p>\n</div>"
     },
     "metadata": {},
     "execution_count": 4
    }
   ],
   "source": [
    "data.head()"
   ]
  },
  {
   "cell_type": "code",
   "execution_count": 5,
   "metadata": {},
   "outputs": [],
   "source": [
    "data = np.array(data)\n",
    "m, n  = data.shape\n",
    "np.random.shuffle(data)"
   ]
  },
  {
   "cell_type": "code",
   "execution_count": 6,
   "metadata": {},
   "outputs": [],
   "source": [
    "val_data = data[:1000].T\n",
    "val_y = val_data[0]\n",
    "val_X = val_data[1:n]\n",
    "val_X = val_X / 255."
   ]
  },
  {
   "cell_type": "code",
   "execution_count": 7,
   "metadata": {},
   "outputs": [],
   "source": [
    "train_data = data[1000:m].T\n",
    "train_y = train_data[0]\n",
    "train_X = train_data[1:n]\n",
    "train_X = train_X / 255."
   ]
  },
  {
   "cell_type": "code",
   "execution_count": 8,
   "metadata": {},
   "outputs": [
    {
     "output_type": "execute_result",
     "data": {
      "text/plain": [
       "(array([[0., 0., 0., ..., 0., 0., 0.],\n",
       "        [0., 0., 0., ..., 0., 0., 0.]]),\n",
       " (784,))"
      ]
     },
     "metadata": {},
     "execution_count": 8
    }
   ],
   "source": [
    "train_X[:2], train_X[:,2].shape"
   ]
  },
  {
   "cell_type": "code",
   "execution_count": 9,
   "metadata": {},
   "outputs": [
    {
     "output_type": "execute_result",
     "data": {
      "text/plain": [
       "9"
      ]
     },
     "metadata": {},
     "execution_count": 9
    }
   ],
   "source": [
    "train_y[0]"
   ]
  },
  {
   "cell_type": "code",
   "execution_count": 10,
   "metadata": {},
   "outputs": [],
   "source": [
    "def init_params():\n",
    "    W1 = np.random.rand(10, 784) - 0.5\n",
    "    b1 = np.random.rand(10, 1) - 0.5\n",
    "    W2 = np.random.rand(10, 10) - 0.5\n",
    "    b2 = np.random.rand(10, 1) - 0.5\n",
    "    return W1, b1, W2, b2\n",
    "\n",
    "def ReLU(Z):\n",
    "    return np.maximum(Z, 0)\n",
    "\n",
    "def softmax(Z):\n",
    "    A = np.exp(Z) / sum(np.exp(Z))\n",
    "    return A\n",
    "    \n",
    "def forward_propagation(W1, b1, W2, b2, X):\n",
    "    Z1 = W1.dot(X) + b1\n",
    "    A1 = ReLU(Z1)\n",
    "    Z2 = W2.dot(A1) + b2\n",
    "    A2 = softmax(Z2)\n",
    "    return Z1, A1, Z2, A2\n",
    "\n",
    "def d_ReLU(Z):\n",
    "    return Z > 0\n",
    "\n",
    "def one_hot(Y):\n",
    "    one_hot_Y = np.zeros((Y.size, Y.max() + 1))\n",
    "    one_hot_Y[np.arange(Y.size), Y] = 1\n",
    "    one_hot_Y = one_hot_Y.T\n",
    "    return one_hot_Y\n",
    "\n",
    "def backward_propagation(Z1, A1, Z2, A2, W1, W2, X, Y):\n",
    "    one_hot_Y = one_hot(Y)\n",
    "    dZ2 = A2 - one_hot_Y\n",
    "    dW2 = 1 / m * dZ2.dot(A1.T)\n",
    "    db2 = 1 / m * np.sum(dZ2)\n",
    "    dZ1 = W2.T.dot(dZ2) * d_ReLU(Z1)\n",
    "    dW1 = 1 / m * dZ1.dot(X.T)\n",
    "    db1 = 1 / m * np.sum(dZ1)\n",
    "    return dW1, db1, dW2, db2\n",
    "\n",
    "def update_params(W1, b1, W2, b2, dW1, db1, dW2, db2, alpha):\n",
    "    W1 = W1 - alpha * dW1\n",
    "    b1 = b1 - alpha * db1    \n",
    "    W2 = W2 - alpha * dW2  \n",
    "    b2 = b2 - alpha * db2    \n",
    "    return W1, b1, W2, b2"
   ]
  },
  {
   "cell_type": "code",
   "execution_count": 11,
   "metadata": {},
   "outputs": [],
   "source": [
    "def get_predictions(A2):\n",
    "    return np.argmax(A2,0)\n",
    "\n",
    "def get_accuracy(predictions,Y):\n",
    "    print(predictions,Y)\n",
    "    return np.sum(predictions ==Y)/Y.size\n",
    "\n",
    "def gradient_descent(X,Y,alpha,epochs):\n",
    "    W1, b1, W2, b2 = init_params()\n",
    "    for i in range(epochs):\n",
    "        Z1,A1,Z2,A2 = forward_propagation(W1, b1, W2, b2, X)\n",
    "        dW1,db1,dW2,db2 = backward_propagation(Z1,A1,Z2,A2,W1,W2,X,Y)\n",
    "        W1,b1,W2,b2 = update_params(W1,b1,W2,b2,dW1,db1,dW2,db2,alpha)\n",
    "        if i%10 ==0:\n",
    "            print(\"epoch\",i)\n",
    "            predictions = get_predictions(A2)\n",
    "            print(\"Accuracy\",get_accuracy(predictions,Y))\n",
    "    return W1,b1,W2,b2"
   ]
  },
  {
   "cell_type": "code",
   "execution_count": 12,
   "metadata": {},
   "outputs": [
    {
     "output_type": "stream",
     "name": "stdout",
     "text": [
      "epoch 0\n",
      "[0 0 0 ... 0 1 0] [9 6 9 ... 6 3 2]\n",
      "Accuracy 0.09865853658536586\n",
      "epoch 10\n",
      "[8 8 9 ... 2 1 7] [9 6 9 ... 6 3 2]\n",
      "Accuracy 0.20214634146341465\n",
      "epoch 20\n",
      "[8 6 9 ... 2 1 7] [9 6 9 ... 6 3 2]\n",
      "Accuracy 0.305\n",
      "epoch 30\n",
      "[4 6 9 ... 2 1 8] [9 6 9 ... 6 3 2]\n",
      "Accuracy 0.3761951219512195\n",
      "epoch 40\n",
      "[4 6 9 ... 2 1 6] [9 6 9 ... 6 3 2]\n",
      "Accuracy 0.43441463414634146\n",
      "epoch 50\n",
      "[4 6 9 ... 2 1 8] [9 6 9 ... 6 3 2]\n",
      "Accuracy 0.48741463414634145\n",
      "epoch 60\n",
      "[4 6 9 ... 2 3 8] [9 6 9 ... 6 3 2]\n",
      "Accuracy 0.5314878048780488\n",
      "epoch 70\n",
      "[9 6 9 ... 2 3 8] [9 6 9 ... 6 3 2]\n",
      "Accuracy 0.5654146341463414\n",
      "epoch 80\n",
      "[9 6 9 ... 2 3 8] [9 6 9 ... 6 3 2]\n",
      "Accuracy 0.5947560975609756\n",
      "epoch 90\n",
      "[9 6 9 ... 2 3 8] [9 6 9 ... 6 3 2]\n",
      "Accuracy 0.619609756097561\n",
      "epoch 100\n",
      "[9 6 9 ... 2 3 8] [9 6 9 ... 6 3 2]\n",
      "Accuracy 0.642\n",
      "epoch 110\n",
      "[9 6 9 ... 2 3 8] [9 6 9 ... 6 3 2]\n",
      "Accuracy 0.6611707317073171\n",
      "epoch 120\n",
      "[9 6 9 ... 6 3 8] [9 6 9 ... 6 3 2]\n",
      "Accuracy 0.6781219512195122\n",
      "epoch 130\n",
      "[9 6 9 ... 6 3 8] [9 6 9 ... 6 3 2]\n",
      "Accuracy 0.694560975609756\n",
      "epoch 140\n",
      "[9 6 9 ... 6 3 8] [9 6 9 ... 6 3 2]\n",
      "Accuracy 0.7085609756097561\n",
      "epoch 150\n",
      "[9 6 9 ... 6 3 8] [9 6 9 ... 6 3 2]\n",
      "Accuracy 0.720609756097561\n",
      "epoch 160\n",
      "[9 6 9 ... 6 3 8] [9 6 9 ... 6 3 2]\n",
      "Accuracy 0.7325609756097561\n",
      "epoch 170\n",
      "[9 6 9 ... 6 3 8] [9 6 9 ... 6 3 2]\n",
      "Accuracy 0.7428292682926829\n",
      "epoch 180\n",
      "[9 6 9 ... 6 3 2] [9 6 9 ... 6 3 2]\n",
      "Accuracy 0.7516341463414634\n",
      "epoch 190\n",
      "[9 6 9 ... 6 3 2] [9 6 9 ... 6 3 2]\n",
      "Accuracy 0.759390243902439\n",
      "epoch 200\n",
      "[9 6 9 ... 6 3 2] [9 6 9 ... 6 3 2]\n",
      "Accuracy 0.7668292682926829\n",
      "epoch 210\n",
      "[9 6 9 ... 6 3 2] [9 6 9 ... 6 3 2]\n",
      "Accuracy 0.7730243902439025\n",
      "epoch 220\n",
      "[9 6 9 ... 6 3 2] [9 6 9 ... 6 3 2]\n",
      "Accuracy 0.7786341463414634\n",
      "epoch 230\n",
      "[9 6 9 ... 6 3 2] [9 6 9 ... 6 3 2]\n",
      "Accuracy 0.7838780487804878\n",
      "epoch 240\n",
      "[9 6 9 ... 6 3 2] [9 6 9 ... 6 3 2]\n",
      "Accuracy 0.7888780487804878\n",
      "epoch 250\n",
      "[9 6 9 ... 6 3 2] [9 6 9 ... 6 3 2]\n",
      "Accuracy 0.7943902439024391\n",
      "epoch 260\n",
      "[9 6 9 ... 6 3 2] [9 6 9 ... 6 3 2]\n",
      "Accuracy 0.799\n",
      "epoch 270\n",
      "[9 6 9 ... 6 3 2] [9 6 9 ... 6 3 2]\n",
      "Accuracy 0.8024146341463415\n",
      "epoch 280\n",
      "[9 6 9 ... 6 3 2] [9 6 9 ... 6 3 2]\n",
      "Accuracy 0.805609756097561\n",
      "epoch 290\n",
      "[9 6 9 ... 6 3 2] [9 6 9 ... 6 3 2]\n",
      "Accuracy 0.8084878048780488\n",
      "epoch 300\n",
      "[9 6 9 ... 6 3 2] [9 6 9 ... 6 3 2]\n",
      "Accuracy 0.8115609756097562\n",
      "epoch 310\n",
      "[9 6 9 ... 6 3 2] [9 6 9 ... 6 3 2]\n",
      "Accuracy 0.8138536585365853\n",
      "epoch 320\n",
      "[9 6 9 ... 6 3 2] [9 6 9 ... 6 3 2]\n",
      "Accuracy 0.817170731707317\n",
      "epoch 330\n",
      "[9 6 9 ... 6 3 2] [9 6 9 ... 6 3 2]\n",
      "Accuracy 0.819780487804878\n",
      "epoch 340\n",
      "[9 6 9 ... 6 3 2] [9 6 9 ... 6 3 2]\n",
      "Accuracy 0.8222926829268292\n",
      "epoch 350\n",
      "[9 6 9 ... 6 3 2] [9 6 9 ... 6 3 2]\n",
      "Accuracy 0.8243658536585365\n",
      "epoch 360\n",
      "[9 6 9 ... 6 3 2] [9 6 9 ... 6 3 2]\n",
      "Accuracy 0.8269756097560975\n",
      "epoch 370\n",
      "[9 6 9 ... 6 3 2] [9 6 9 ... 6 3 2]\n",
      "Accuracy 0.8292195121951219\n",
      "epoch 380\n",
      "[9 6 9 ... 6 3 2] [9 6 9 ... 6 3 2]\n",
      "Accuracy 0.831170731707317\n",
      "epoch 390\n",
      "[9 6 9 ... 6 3 2] [9 6 9 ... 6 3 2]\n",
      "Accuracy 0.8328048780487805\n",
      "epoch 400\n",
      "[9 6 9 ... 6 3 2] [9 6 9 ... 6 3 2]\n",
      "Accuracy 0.8344878048780487\n",
      "epoch 410\n",
      "[9 6 9 ... 6 3 2] [9 6 9 ... 6 3 2]\n",
      "Accuracy 0.8363170731707317\n",
      "epoch 420\n",
      "[9 6 9 ... 6 3 2] [9 6 9 ... 6 3 2]\n",
      "Accuracy 0.8380731707317073\n",
      "epoch 430\n",
      "[9 6 9 ... 6 3 2] [9 6 9 ... 6 3 2]\n",
      "Accuracy 0.8400243902439024\n",
      "epoch 440\n",
      "[9 6 9 ... 6 3 2] [9 6 9 ... 6 3 2]\n",
      "Accuracy 0.8410731707317073\n",
      "epoch 450\n",
      "[9 6 9 ... 6 3 2] [9 6 9 ... 6 3 2]\n",
      "Accuracy 0.842609756097561\n",
      "epoch 460\n",
      "[9 6 9 ... 6 3 2] [9 6 9 ... 6 3 2]\n",
      "Accuracy 0.843780487804878\n",
      "epoch 470\n",
      "[9 6 9 ... 6 3 2] [9 6 9 ... 6 3 2]\n",
      "Accuracy 0.8448048780487805\n",
      "epoch 480\n",
      "[9 6 9 ... 6 3 2] [9 6 9 ... 6 3 2]\n",
      "Accuracy 0.8461463414634146\n",
      "epoch 490\n",
      "[9 6 9 ... 6 3 2] [9 6 9 ... 6 3 2]\n",
      "Accuracy 0.8474146341463414\n"
     ]
    }
   ],
   "source": [
    "W1,b1,W2,b2 = gradient_descent(train_X,train_y,0.1,500)"
   ]
  },
  {
   "cell_type": "code",
   "execution_count": 13,
   "metadata": {},
   "outputs": [],
   "source": [
    "def make_predictions(X,W1,b1,W2,b2):\n",
    "    _, _, _, A2 =  forward_propagation(W1,b1,W2,b2,X)\n",
    "    predictions = get_predictions(A2)\n",
    "    return predictions"
   ]
  },
  {
   "cell_type": "code",
   "execution_count": 14,
   "metadata": {},
   "outputs": [],
   "source": [
    "def test_prediction(index, W1,b1,W2,b2):\n",
    "    image = train_X[:,index,None]\n",
    "    prediction = make_predictions(train_X[:,index,None],W1,b1,W2,b2)\n",
    "\n",
    "    label = train_y[index]\n",
    "    print(\"Prediction: \",prediction)\n",
    "    print(\"Label: \",label)\n",
    "\n",
    "    image = image.reshape((28,28))*255\n",
    "    plt.imshow(image,interpolation='nearest')\n",
    "    plt.show()"
   ]
  },
  {
   "cell_type": "code",
   "execution_count": 15,
   "metadata": {},
   "outputs": [
    {
     "output_type": "execute_result",
     "data": {
      "text/plain": [
       "array([5, 5, 5, 0, 5, 0, 5, 5, 5, 5])"
      ]
     },
     "metadata": {},
     "execution_count": 15
    }
   ],
   "source": [
    "make_predictions(train_X[:,0],W1,b1,W2,b2)"
   ]
  },
  {
   "cell_type": "code",
   "execution_count": 16,
   "metadata": {},
   "outputs": [
    {
     "output_type": "stream",
     "name": "stdout",
     "text": [
      "Prediction:  [9]\nLabel:  9\n"
     ]
    },
    {
     "output_type": "display_data",
     "data": {
      "text/plain": "<Figure size 432x288 with 1 Axes>",
      "image/svg+xml": "<?xml version=\"1.0\" encoding=\"utf-8\" standalone=\"no\"?>\n<!DOCTYPE svg PUBLIC \"-//W3C//DTD SVG 1.1//EN\"\n  \"http://www.w3.org/Graphics/SVG/1.1/DTD/svg11.dtd\">\n<svg height=\"248.518125pt\" version=\"1.1\" viewBox=\"0 0 251.565 248.518125\" width=\"251.565pt\" xmlns=\"http://www.w3.org/2000/svg\" xmlns:xlink=\"http://www.w3.org/1999/xlink\">\n <metadata>\n  <rdf:RDF xmlns:cc=\"http://creativecommons.org/ns#\" xmlns:dc=\"http://purl.org/dc/elements/1.1/\" xmlns:rdf=\"http://www.w3.org/1999/02/22-rdf-syntax-ns#\">\n   <cc:Work>\n    <dc:type rdf:resource=\"http://purl.org/dc/dcmitype/StillImage\"/>\n    <dc:date>2021-08-28T23:35:52.363315</dc:date>\n    <dc:format>image/svg+xml</dc:format>\n    <dc:creator>\n     <cc:Agent>\n      <dc:title>Matplotlib v3.4.2, https://matplotlib.org/</dc:title>\n     </cc:Agent>\n    </dc:creator>\n   </cc:Work>\n  </rdf:RDF>\n </metadata>\n <defs>\n  <style type=\"text/css\">*{stroke-linecap:butt;stroke-linejoin:round;}</style>\n </defs>\n <g id=\"figure_1\">\n  <g id=\"patch_1\">\n   <path d=\"M 0 248.518125 \nL 251.565 248.518125 \nL 251.565 0 \nL 0 0 \nz\n\" style=\"fill:none;\"/>\n  </g>\n  <g id=\"axes_1\">\n   <g id=\"patch_2\">\n    <path d=\"M 26.925 224.64 \nL 244.365 224.64 \nL 244.365 7.2 \nL 26.925 7.2 \nz\n\" style=\"fill:#ffffff;\"/>\n   </g>\n   <g clip-path=\"url(#pf165ad40de)\">\n    <image height=\"218\" id=\"image8f7d5714d5\" transform=\"scale(1 -1)translate(0 -218)\" width=\"218\" x=\"26.925\" xlink:href=\"data:image/png;base64,\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\" y=\"-6.64\"/>\n   </g>\n   <g id=\"matplotlib.axis_1\">\n    <g id=\"xtick_1\">\n     <g id=\"line2d_1\">\n      <defs>\n       <path d=\"M 0 0 \nL 0 3.5 \n\" id=\"m8eba520ef4\" style=\"stroke:#000000;stroke-width:0.8;\"/>\n      </defs>\n      <g>\n       <use style=\"stroke:#000000;stroke-width:0.8;\" x=\"30.807857\" xlink:href=\"#m8eba520ef4\" y=\"224.64\"/>\n      </g>\n     </g>\n     <g id=\"text_1\">\n      <!-- 0 -->\n      <g transform=\"translate(27.626607 239.238437)scale(0.1 -0.1)\">\n       <defs>\n        <path d=\"M 2034 4250 \nQ 1547 4250 1301 3770 \nQ 1056 3291 1056 2328 \nQ 1056 1369 1301 889 \nQ 1547 409 2034 409 \nQ 2525 409 2770 889 \nQ 3016 1369 3016 2328 \nQ 3016 3291 2770 3770 \nQ 2525 4250 2034 4250 \nz\nM 2034 4750 \nQ 2819 4750 3233 4129 \nQ 3647 3509 3647 2328 \nQ 3647 1150 3233 529 \nQ 2819 -91 2034 -91 \nQ 1250 -91 836 529 \nQ 422 1150 422 2328 \nQ 422 3509 836 4129 \nQ 1250 4750 2034 4750 \nz\n\" id=\"DejaVuSans-30\" transform=\"scale(0.015625)\"/>\n       </defs>\n       <use xlink:href=\"#DejaVuSans-30\"/>\n      </g>\n     </g>\n    </g>\n    <g id=\"xtick_2\">\n     <g id=\"line2d_2\">\n      <g>\n       <use style=\"stroke:#000000;stroke-width:0.8;\" x=\"69.636429\" xlink:href=\"#m8eba520ef4\" y=\"224.64\"/>\n      </g>\n     </g>\n     <g id=\"text_2\">\n      <!-- 5 -->\n      <g transform=\"translate(66.455179 239.238437)scale(0.1 -0.1)\">\n       <defs>\n        <path d=\"M 691 4666 \nL 3169 4666 \nL 3169 4134 \nL 1269 4134 \nL 1269 2991 \nQ 1406 3038 1543 3061 \nQ 1681 3084 1819 3084 \nQ 2600 3084 3056 2656 \nQ 3513 2228 3513 1497 \nQ 3513 744 3044 326 \nQ 2575 -91 1722 -91 \nQ 1428 -91 1123 -41 \nQ 819 9 494 109 \nL 494 744 \nQ 775 591 1075 516 \nQ 1375 441 1709 441 \nQ 2250 441 2565 725 \nQ 2881 1009 2881 1497 \nQ 2881 1984 2565 2268 \nQ 2250 2553 1709 2553 \nQ 1456 2553 1204 2497 \nQ 953 2441 691 2322 \nL 691 4666 \nz\n\" id=\"DejaVuSans-35\" transform=\"scale(0.015625)\"/>\n       </defs>\n       <use xlink:href=\"#DejaVuSans-35\"/>\n      </g>\n     </g>\n    </g>\n    <g id=\"xtick_3\">\n     <g id=\"line2d_3\">\n      <g>\n       <use style=\"stroke:#000000;stroke-width:0.8;\" x=\"108.465\" xlink:href=\"#m8eba520ef4\" y=\"224.64\"/>\n      </g>\n     </g>\n     <g id=\"text_3\">\n      <!-- 10 -->\n      <g transform=\"translate(102.1025 239.238437)scale(0.1 -0.1)\">\n       <defs>\n        <path d=\"M 794 531 \nL 1825 531 \nL 1825 4091 \nL 703 3866 \nL 703 4441 \nL 1819 4666 \nL 2450 4666 \nL 2450 531 \nL 3481 531 \nL 3481 0 \nL 794 0 \nL 794 531 \nz\n\" id=\"DejaVuSans-31\" transform=\"scale(0.015625)\"/>\n       </defs>\n       <use xlink:href=\"#DejaVuSans-31\"/>\n       <use x=\"63.623047\" xlink:href=\"#DejaVuSans-30\"/>\n      </g>\n     </g>\n    </g>\n    <g id=\"xtick_4\">\n     <g id=\"line2d_4\">\n      <g>\n       <use style=\"stroke:#000000;stroke-width:0.8;\" x=\"147.293571\" xlink:href=\"#m8eba520ef4\" y=\"224.64\"/>\n      </g>\n     </g>\n     <g id=\"text_4\">\n      <!-- 15 -->\n      <g transform=\"translate(140.931071 239.238437)scale(0.1 -0.1)\">\n       <use xlink:href=\"#DejaVuSans-31\"/>\n       <use x=\"63.623047\" xlink:href=\"#DejaVuSans-35\"/>\n      </g>\n     </g>\n    </g>\n    <g id=\"xtick_5\">\n     <g id=\"line2d_5\">\n      <g>\n       <use style=\"stroke:#000000;stroke-width:0.8;\" x=\"186.122143\" xlink:href=\"#m8eba520ef4\" y=\"224.64\"/>\n      </g>\n     </g>\n     <g id=\"text_5\">\n      <!-- 20 -->\n      <g transform=\"translate(179.759643 239.238437)scale(0.1 -0.1)\">\n       <defs>\n        <path d=\"M 1228 531 \nL 3431 531 \nL 3431 0 \nL 469 0 \nL 469 531 \nQ 828 903 1448 1529 \nQ 2069 2156 2228 2338 \nQ 2531 2678 2651 2914 \nQ 2772 3150 2772 3378 \nQ 2772 3750 2511 3984 \nQ 2250 4219 1831 4219 \nQ 1534 4219 1204 4116 \nQ 875 4013 500 3803 \nL 500 4441 \nQ 881 4594 1212 4672 \nQ 1544 4750 1819 4750 \nQ 2544 4750 2975 4387 \nQ 3406 4025 3406 3419 \nQ 3406 3131 3298 2873 \nQ 3191 2616 2906 2266 \nQ 2828 2175 2409 1742 \nQ 1991 1309 1228 531 \nz\n\" id=\"DejaVuSans-32\" transform=\"scale(0.015625)\"/>\n       </defs>\n       <use xlink:href=\"#DejaVuSans-32\"/>\n       <use x=\"63.623047\" xlink:href=\"#DejaVuSans-30\"/>\n      </g>\n     </g>\n    </g>\n    <g id=\"xtick_6\">\n     <g id=\"line2d_6\">\n      <g>\n       <use style=\"stroke:#000000;stroke-width:0.8;\" x=\"224.950714\" xlink:href=\"#m8eba520ef4\" y=\"224.64\"/>\n      </g>\n     </g>\n     <g id=\"text_6\">\n      <!-- 25 -->\n      <g transform=\"translate(218.588214 239.238437)scale(0.1 -0.1)\">\n       <use xlink:href=\"#DejaVuSans-32\"/>\n       <use x=\"63.623047\" xlink:href=\"#DejaVuSans-35\"/>\n      </g>\n     </g>\n    </g>\n   </g>\n   <g id=\"matplotlib.axis_2\">\n    <g id=\"ytick_1\">\n     <g id=\"line2d_7\">\n      <defs>\n       <path d=\"M 0 0 \nL -3.5 0 \n\" id=\"ma0f2955572\" style=\"stroke:#000000;stroke-width:0.8;\"/>\n      </defs>\n      <g>\n       <use style=\"stroke:#000000;stroke-width:0.8;\" x=\"26.925\" xlink:href=\"#ma0f2955572\" y=\"11.082857\"/>\n      </g>\n     </g>\n     <g id=\"text_7\">\n      <!-- 0 -->\n      <g transform=\"translate(13.5625 14.882076)scale(0.1 -0.1)\">\n       <use xlink:href=\"#DejaVuSans-30\"/>\n      </g>\n     </g>\n    </g>\n    <g id=\"ytick_2\">\n     <g id=\"line2d_8\">\n      <g>\n       <use style=\"stroke:#000000;stroke-width:0.8;\" x=\"26.925\" xlink:href=\"#ma0f2955572\" y=\"49.911429\"/>\n      </g>\n     </g>\n     <g id=\"text_8\">\n      <!-- 5 -->\n      <g transform=\"translate(13.5625 53.710647)scale(0.1 -0.1)\">\n       <use xlink:href=\"#DejaVuSans-35\"/>\n      </g>\n     </g>\n    </g>\n    <g id=\"ytick_3\">\n     <g id=\"line2d_9\">\n      <g>\n       <use style=\"stroke:#000000;stroke-width:0.8;\" x=\"26.925\" xlink:href=\"#ma0f2955572\" y=\"88.74\"/>\n      </g>\n     </g>\n     <g id=\"text_9\">\n      <!-- 10 -->\n      <g transform=\"translate(7.2 92.539219)scale(0.1 -0.1)\">\n       <use xlink:href=\"#DejaVuSans-31\"/>\n       <use x=\"63.623047\" xlink:href=\"#DejaVuSans-30\"/>\n      </g>\n     </g>\n    </g>\n    <g id=\"ytick_4\">\n     <g id=\"line2d_10\">\n      <g>\n       <use style=\"stroke:#000000;stroke-width:0.8;\" x=\"26.925\" xlink:href=\"#ma0f2955572\" y=\"127.568571\"/>\n      </g>\n     </g>\n     <g id=\"text_10\">\n      <!-- 15 -->\n      <g transform=\"translate(7.2 131.36779)scale(0.1 -0.1)\">\n       <use xlink:href=\"#DejaVuSans-31\"/>\n       <use x=\"63.623047\" xlink:href=\"#DejaVuSans-35\"/>\n      </g>\n     </g>\n    </g>\n    <g id=\"ytick_5\">\n     <g id=\"line2d_11\">\n      <g>\n       <use style=\"stroke:#000000;stroke-width:0.8;\" x=\"26.925\" xlink:href=\"#ma0f2955572\" y=\"166.397143\"/>\n      </g>\n     </g>\n     <g id=\"text_11\">\n      <!-- 20 -->\n      <g transform=\"translate(7.2 170.196362)scale(0.1 -0.1)\">\n       <use xlink:href=\"#DejaVuSans-32\"/>\n       <use x=\"63.623047\" xlink:href=\"#DejaVuSans-30\"/>\n      </g>\n     </g>\n    </g>\n    <g id=\"ytick_6\">\n     <g id=\"line2d_12\">\n      <g>\n       <use style=\"stroke:#000000;stroke-width:0.8;\" x=\"26.925\" xlink:href=\"#ma0f2955572\" y=\"205.225714\"/>\n      </g>\n     </g>\n     <g id=\"text_12\">\n      <!-- 25 -->\n      <g transform=\"translate(7.2 209.024933)scale(0.1 -0.1)\">\n       <use xlink:href=\"#DejaVuSans-32\"/>\n       <use x=\"63.623047\" xlink:href=\"#DejaVuSans-35\"/>\n      </g>\n     </g>\n    </g>\n   </g>\n   <g id=\"patch_3\">\n    <path d=\"M 26.925 224.64 \nL 26.925 7.2 \n\" style=\"fill:none;stroke:#000000;stroke-linecap:square;stroke-linejoin:miter;stroke-width:0.8;\"/>\n   </g>\n   <g id=\"patch_4\">\n    <path d=\"M 244.365 224.64 \nL 244.365 7.2 \n\" style=\"fill:none;stroke:#000000;stroke-linecap:square;stroke-linejoin:miter;stroke-width:0.8;\"/>\n   </g>\n   <g id=\"patch_5\">\n    <path d=\"M 26.925 224.64 \nL 244.365 224.64 \n\" style=\"fill:none;stroke:#000000;stroke-linecap:square;stroke-linejoin:miter;stroke-width:0.8;\"/>\n   </g>\n   <g id=\"patch_6\">\n    <path d=\"M 26.925 7.2 \nL 244.365 7.2 \n\" style=\"fill:none;stroke:#000000;stroke-linecap:square;stroke-linejoin:miter;stroke-width:0.8;\"/>\n   </g>\n  </g>\n </g>\n <defs>\n  <clipPath id=\"pf165ad40de\">\n   <rect height=\"217.44\" width=\"217.44\" x=\"26.925\" y=\"7.2\"/>\n  </clipPath>\n </defs>\n</svg>\n",
      "image/png": "[encoded data removed]"
     },
     "metadata": {
      "needs_background": "light"
     }
    },
    {
     "output_type": "stream",
     "name": "stdout",
     "text": [
      "Prediction:  [6]\nLabel:  6\n"
     ]
    },
    {
     "output_type": "display_data",
     "data": {
      "text/plain": "<Figure size 432x288 with 1 Axes>",
      "image/svg+xml": "<?xml version=\"1.0\" encoding=\"utf-8\" standalone=\"no\"?>\n<!DOCTYPE svg PUBLIC \"-//W3C//DTD SVG 1.1//EN\"\n  \"http://www.w3.org/Graphics/SVG/1.1/DTD/svg11.dtd\">\n<svg height=\"248.518125pt\" version=\"1.1\" viewBox=\"0 0 251.565 248.518125\" width=\"251.565pt\" xmlns=\"http://www.w3.org/2000/svg\" xmlns:xlink=\"http://www.w3.org/1999/xlink\">\n <metadata>\n  <rdf:RDF xmlns:cc=\"http://creativecommons.org/ns#\" xmlns:dc=\"http://purl.org/dc/elements/1.1/\" xmlns:rdf=\"http://www.w3.org/1999/02/22-rdf-syntax-ns#\">\n   <cc:Work>\n    <dc:type rdf:resource=\"http://purl.org/dc/dcmitype/StillImage\"/>\n    <dc:date>2021-08-28T23:35:52.501397</dc:date>\n    <dc:format>image/svg+xml</dc:format>\n    <dc:creator>\n     <cc:Agent>\n      <dc:title>Matplotlib v3.4.2, https://matplotlib.org/</dc:title>\n     </cc:Agent>\n    </dc:creator>\n   </cc:Work>\n  </rdf:RDF>\n </metadata>\n <defs>\n  <style type=\"text/css\">*{stroke-linecap:butt;stroke-linejoin:round;}</style>\n </defs>\n <g id=\"figure_1\">\n  <g id=\"patch_1\">\n   <path d=\"M 0 248.518125 \nL 251.565 248.518125 \nL 251.565 0 \nL 0 0 \nz\n\" style=\"fill:none;\"/>\n  </g>\n  <g id=\"axes_1\">\n   <g id=\"patch_2\">\n    <path d=\"M 26.925 224.64 \nL 244.365 224.64 \nL 244.365 7.2 \nL 26.925 7.2 \nz\n\" style=\"fill:#ffffff;\"/>\n   </g>\n   <g clip-path=\"url(#pf289066d06)\">\n    <image height=\"218\" id=\"imaged78a41deb6\" transform=\"scale(1 -1)translate(0 -218)\" width=\"218\" x=\"26.925\" xlink:href=\"data:image/png;base64,\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\" y=\"-6.64\"/>\n   </g>\n   <g id=\"matplotlib.axis_1\">\n    <g id=\"xtick_1\">\n     <g id=\"line2d_1\">\n      <defs>\n       <path d=\"M 0 0 \nL 0 3.5 \n\" id=\"mcb5cfdab34\" style=\"stroke:#000000;stroke-width:0.8;\"/>\n      </defs>\n      <g>\n       <use style=\"stroke:#000000;stroke-width:0.8;\" x=\"30.807857\" xlink:href=\"#mcb5cfdab34\" y=\"224.64\"/>\n      </g>\n     </g>\n     <g id=\"text_1\">\n      <!-- 0 -->\n      <g transform=\"translate(27.626607 239.238437)scale(0.1 -0.1)\">\n       <defs>\n        <path d=\"M 2034 4250 \nQ 1547 4250 1301 3770 \nQ 1056 3291 1056 2328 \nQ 1056 1369 1301 889 \nQ 1547 409 2034 409 \nQ 2525 409 2770 889 \nQ 3016 1369 3016 2328 \nQ 3016 3291 2770 3770 \nQ 2525 4250 2034 4250 \nz\nM 2034 4750 \nQ 2819 4750 3233 4129 \nQ 3647 3509 3647 2328 \nQ 3647 1150 3233 529 \nQ 2819 -91 2034 -91 \nQ 1250 -91 836 529 \nQ 422 1150 422 2328 \nQ 422 3509 836 4129 \nQ 1250 4750 2034 4750 \nz\n\" id=\"DejaVuSans-30\" transform=\"scale(0.015625)\"/>\n       </defs>\n       <use xlink:href=\"#DejaVuSans-30\"/>\n      </g>\n     </g>\n    </g>\n    <g id=\"xtick_2\">\n     <g id=\"line2d_2\">\n      <g>\n       <use style=\"stroke:#000000;stroke-width:0.8;\" x=\"69.636429\" xlink:href=\"#mcb5cfdab34\" y=\"224.64\"/>\n      </g>\n     </g>\n     <g id=\"text_2\">\n      <!-- 5 -->\n      <g transform=\"translate(66.455179 239.238437)scale(0.1 -0.1)\">\n       <defs>\n        <path d=\"M 691 4666 \nL 3169 4666 \nL 3169 4134 \nL 1269 4134 \nL 1269 2991 \nQ 1406 3038 1543 3061 \nQ 1681 3084 1819 3084 \nQ 2600 3084 3056 2656 \nQ 3513 2228 3513 1497 \nQ 3513 744 3044 326 \nQ 2575 -91 1722 -91 \nQ 1428 -91 1123 -41 \nQ 819 9 494 109 \nL 494 744 \nQ 775 591 1075 516 \nQ 1375 441 1709 441 \nQ 2250 441 2565 725 \nQ 2881 1009 2881 1497 \nQ 2881 1984 2565 2268 \nQ 2250 2553 1709 2553 \nQ 1456 2553 1204 2497 \nQ 953 2441 691 2322 \nL 691 4666 \nz\n\" id=\"DejaVuSans-35\" transform=\"scale(0.015625)\"/>\n       </defs>\n       <use xlink:href=\"#DejaVuSans-35\"/>\n      </g>\n     </g>\n    </g>\n    <g id=\"xtick_3\">\n     <g id=\"line2d_3\">\n      <g>\n       <use style=\"stroke:#000000;stroke-width:0.8;\" x=\"108.465\" xlink:href=\"#mcb5cfdab34\" y=\"224.64\"/>\n      </g>\n     </g>\n     <g id=\"text_3\">\n      <!-- 10 -->\n      <g transform=\"translate(102.1025 239.238437)scale(0.1 -0.1)\">\n       <defs>\n        <path d=\"M 794 531 \nL 1825 531 \nL 1825 4091 \nL 703 3866 \nL 703 4441 \nL 1819 4666 \nL 2450 4666 \nL 2450 531 \nL 3481 531 \nL 3481 0 \nL 794 0 \nL 794 531 \nz\n\" id=\"DejaVuSans-31\" transform=\"scale(0.015625)\"/>\n       </defs>\n       <use xlink:href=\"#DejaVuSans-31\"/>\n       <use x=\"63.623047\" xlink:href=\"#DejaVuSans-30\"/>\n      </g>\n     </g>\n    </g>\n    <g id=\"xtick_4\">\n     <g id=\"line2d_4\">\n      <g>\n       <use style=\"stroke:#000000;stroke-width:0.8;\" x=\"147.293571\" xlink:href=\"#mcb5cfdab34\" y=\"224.64\"/>\n      </g>\n     </g>\n     <g id=\"text_4\">\n      <!-- 15 -->\n      <g transform=\"translate(140.931071 239.238437)scale(0.1 -0.1)\">\n       <use xlink:href=\"#DejaVuSans-31\"/>\n       <use x=\"63.623047\" xlink:href=\"#DejaVuSans-35\"/>\n      </g>\n     </g>\n    </g>\n    <g id=\"xtick_5\">\n     <g id=\"line2d_5\">\n      <g>\n       <use style=\"stroke:#000000;stroke-width:0.8;\" x=\"186.122143\" xlink:href=\"#mcb5cfdab34\" y=\"224.64\"/>\n      </g>\n     </g>\n     <g id=\"text_5\">\n      <!-- 20 -->\n      <g transform=\"translate(179.759643 239.238437)scale(0.1 -0.1)\">\n       <defs>\n        <path d=\"M 1228 531 \nL 3431 531 \nL 3431 0 \nL 469 0 \nL 469 531 \nQ 828 903 1448 1529 \nQ 2069 2156 2228 2338 \nQ 2531 2678 2651 2914 \nQ 2772 3150 2772 3378 \nQ 2772 3750 2511 3984 \nQ 2250 4219 1831 4219 \nQ 1534 4219 1204 4116 \nQ 875 4013 500 3803 \nL 500 4441 \nQ 881 4594 1212 4672 \nQ 1544 4750 1819 4750 \nQ 2544 4750 2975 4387 \nQ 3406 4025 3406 3419 \nQ 3406 3131 3298 2873 \nQ 3191 2616 2906 2266 \nQ 2828 2175 2409 1742 \nQ 1991 1309 1228 531 \nz\n\" id=\"DejaVuSans-32\" transform=\"scale(0.015625)\"/>\n       </defs>\n       <use xlink:href=\"#DejaVuSans-32\"/>\n       <use x=\"63.623047\" xlink:href=\"#DejaVuSans-30\"/>\n      </g>\n     </g>\n    </g>\n    <g id=\"xtick_6\">\n     <g id=\"line2d_6\">\n      <g>\n       <use style=\"stroke:#000000;stroke-width:0.8;\" x=\"224.950714\" xlink:href=\"#mcb5cfdab34\" y=\"224.64\"/>\n      </g>\n     </g>\n     <g id=\"text_6\">\n      <!-- 25 -->\n      <g transform=\"translate(218.588214 239.238437)scale(0.1 -0.1)\">\n       <use xlink:href=\"#DejaVuSans-32\"/>\n       <use x=\"63.623047\" xlink:href=\"#DejaVuSans-35\"/>\n      </g>\n     </g>\n    </g>\n   </g>\n   <g id=\"matplotlib.axis_2\">\n    <g id=\"ytick_1\">\n     <g id=\"line2d_7\">\n      <defs>\n       <path d=\"M 0 0 \nL -3.5 0 \n\" id=\"m1025642af9\" style=\"stroke:#000000;stroke-width:0.8;\"/>\n      </defs>\n      <g>\n       <use style=\"stroke:#000000;stroke-width:0.8;\" x=\"26.925\" xlink:href=\"#m1025642af9\" y=\"11.082857\"/>\n      </g>\n     </g>\n     <g id=\"text_7\">\n      <!-- 0 -->\n      <g transform=\"translate(13.5625 14.882076)scale(0.1 -0.1)\">\n       <use xlink:href=\"#DejaVuSans-30\"/>\n      </g>\n     </g>\n    </g>\n    <g id=\"ytick_2\">\n     <g id=\"line2d_8\">\n      <g>\n       <use style=\"stroke:#000000;stroke-width:0.8;\" x=\"26.925\" xlink:href=\"#m1025642af9\" y=\"49.911429\"/>\n      </g>\n     </g>\n     <g id=\"text_8\">\n      <!-- 5 -->\n      <g transform=\"translate(13.5625 53.710647)scale(0.1 -0.1)\">\n       <use xlink:href=\"#DejaVuSans-35\"/>\n      </g>\n     </g>\n    </g>\n    <g id=\"ytick_3\">\n     <g id=\"line2d_9\">\n      <g>\n       <use style=\"stroke:#000000;stroke-width:0.8;\" x=\"26.925\" xlink:href=\"#m1025642af9\" y=\"88.74\"/>\n      </g>\n     </g>\n     <g id=\"text_9\">\n      <!-- 10 -->\n      <g transform=\"translate(7.2 92.539219)scale(0.1 -0.1)\">\n       <use xlink:href=\"#DejaVuSans-31\"/>\n       <use x=\"63.623047\" xlink:href=\"#DejaVuSans-30\"/>\n      </g>\n     </g>\n    </g>\n    <g id=\"ytick_4\">\n     <g id=\"line2d_10\">\n      <g>\n       <use style=\"stroke:#000000;stroke-width:0.8;\" x=\"26.925\" xlink:href=\"#m1025642af9\" y=\"127.568571\"/>\n      </g>\n     </g>\n     <g id=\"text_10\">\n      <!-- 15 -->\n      <g transform=\"translate(7.2 131.36779)scale(0.1 -0.1)\">\n       <use xlink:href=\"#DejaVuSans-31\"/>\n       <use x=\"63.623047\" xlink:href=\"#DejaVuSans-35\"/>\n      </g>\n     </g>\n    </g>\n    <g id=\"ytick_5\">\n     <g id=\"line2d_11\">\n      <g>\n       <use style=\"stroke:#000000;stroke-width:0.8;\" x=\"26.925\" xlink:href=\"#m1025642af9\" y=\"166.397143\"/>\n      </g>\n     </g>\n     <g id=\"text_11\">\n      <!-- 20 -->\n      <g transform=\"translate(7.2 170.196362)scale(0.1 -0.1)\">\n       <use xlink:href=\"#DejaVuSans-32\"/>\n       <use x=\"63.623047\" xlink:href=\"#DejaVuSans-30\"/>\n      </g>\n     </g>\n    </g>\n    <g id=\"ytick_6\">\n     <g id=\"line2d_12\">\n      <g>\n       <use style=\"stroke:#000000;stroke-width:0.8;\" x=\"26.925\" xlink:href=\"#m1025642af9\" y=\"205.225714\"/>\n      </g>\n     </g>\n     <g id=\"text_12\">\n      <!-- 25 -->\n      <g transform=\"translate(7.2 209.024933)scale(0.1 -0.1)\">\n       <use xlink:href=\"#DejaVuSans-32\"/>\n       <use x=\"63.623047\" xlink:href=\"#DejaVuSans-35\"/>\n      </g>\n     </g>\n    </g>\n   </g>\n   <g id=\"patch_3\">\n    <path d=\"M 26.925 224.64 \nL 26.925 7.2 \n\" style=\"fill:none;stroke:#000000;stroke-linecap:square;stroke-linejoin:miter;stroke-width:0.8;\"/>\n   </g>\n   <g id=\"patch_4\">\n    <path d=\"M 244.365 224.64 \nL 244.365 7.2 \n\" style=\"fill:none;stroke:#000000;stroke-linecap:square;stroke-linejoin:miter;stroke-width:0.8;\"/>\n   </g>\n   <g id=\"patch_5\">\n    <path d=\"M 26.925 224.64 \nL 244.365 224.64 \n\" style=\"fill:none;stroke:#000000;stroke-linecap:square;stroke-linejoin:miter;stroke-width:0.8;\"/>\n   </g>\n   <g id=\"patch_6\">\n    <path d=\"M 26.925 7.2 \nL 244.365 7.2 \n\" style=\"fill:none;stroke:#000000;stroke-linecap:square;stroke-linejoin:miter;stroke-width:0.8;\"/>\n   </g>\n  </g>\n </g>\n <defs>\n  <clipPath id=\"pf289066d06\">\n   <rect height=\"217.44\" width=\"217.44\" x=\"26.925\" y=\"7.2\"/>\n  </clipPath>\n </defs>\n</svg>\n",
      "image/png": "[encoded data removed]"
     },
     "metadata": {
      "needs_background": "light"
     }
    },
    {
     "output_type": "stream",
     "name": "stdout",
     "text": [
      "Prediction:  [9]\nLabel:  9\n"
     ]
    },
    {
     "output_type": "display_data",
     "data": {
      "text/plain": "<Figure size 432x288 with 1 Axes>",
      "image/svg+xml": "<?xml version=\"1.0\" encoding=\"utf-8\" standalone=\"no\"?>\n<!DOCTYPE svg PUBLIC \"-//W3C//DTD SVG 1.1//EN\"\n  \"http://www.w3.org/Graphics/SVG/1.1/DTD/svg11.dtd\">\n<svg height=\"248.518125pt\" version=\"1.1\" viewBox=\"0 0 251.565 248.518125\" width=\"251.565pt\" xmlns=\"http://www.w3.org/2000/svg\" xmlns:xlink=\"http://www.w3.org/1999/xlink\">\n <metadata>\n  <rdf:RDF xmlns:cc=\"http://creativecommons.org/ns#\" xmlns:dc=\"http://purl.org/dc/elements/1.1/\" xmlns:rdf=\"http://www.w3.org/1999/02/22-rdf-syntax-ns#\">\n   <cc:Work>\n    <dc:type rdf:resource=\"http://purl.org/dc/dcmitype/StillImage\"/>\n    <dc:date>2021-08-28T23:35:52.641037</dc:date>\n    <dc:format>image/svg+xml</dc:format>\n    <dc:creator>\n     <cc:Agent>\n      <dc:title>Matplotlib v3.4.2, https://matplotlib.org/</dc:title>\n     </cc:Agent>\n    </dc:creator>\n   </cc:Work>\n  </rdf:RDF>\n </metadata>\n <defs>\n  <style type=\"text/css\">*{stroke-linecap:butt;stroke-linejoin:round;}</style>\n </defs>\n <g id=\"figure_1\">\n  <g id=\"patch_1\">\n   <path d=\"M 0 248.518125 \nL 251.565 248.518125 \nL 251.565 0 \nL 0 0 \nz\n\" style=\"fill:none;\"/>\n  </g>\n  <g id=\"axes_1\">\n   <g id=\"patch_2\">\n    <path d=\"M 26.925 224.64 \nL 244.365 224.64 \nL 244.365 7.2 \nL 26.925 7.2 \nz\n\" style=\"fill:#ffffff;\"/>\n   </g>\n   <g clip-path=\"url(#pca23bbb703)\">\n    <image height=\"218\" id=\"image4cc8b92944\" transform=\"scale(1 -1)translate(0 -218)\" width=\"218\" x=\"26.925\" xlink:href=\"data:image/png;base64,\niVBORw0KGgoAAAANSUhEUgAAANoAAADaCAYAAADAHVzbAAAGX0lEQVR4nO3dUcjddR3H8XPOs7mxterRZM1ymk9zm27FIKnETGIUQ9DM4VWkghddrKfBbrwQryqCLtSZYiAjgtIwcAklknihONBGF2ZtF7JWa3NLy23Pls6d53m66mLE/3vyOc/z2c45r9ftZ/9zDmPv/eH8OOe0N7e3zraABdU53y8ARoHQIEBoECA0CBAaBAgNAoQGAUKDAKFBgNAgQGgQIDQIEBoECA0ChAYBi873C2CwLLpydblP75ou948tPd24/etb4/Vjv/GXcr+QuaNBgNAgQGgQIDQIEBoECA0CvL3POcY+/alyP/blj5f7y2t3zvm5109uK/c1k97eBwpCgwChQYDQIEBoECA0CBAaBDhH4xyHbltV7nu3P7Rgz73m2sPlfuw715f7yof3zOfLmVfuaBAgNAgQGgQIDQKEBgFCgwChQYBzNKJ2HLmhcTv12CfKa1c+deGek/XijgYBQoMAoUGA0CBAaBAgNAgQGgQ4RyPqT/dtbNw+9NwrwVeS5Y4GAUKDAKFBgNAgQGgQIDQIEBoEOEfjHKcmuuf7JQwldzQIEBoECA0ChAYBQoMAoUGAt/cbdJYtK/f2orn/1c3Oztb7e2fqfXq6foKZHnth/LIT5f7vmbPlvqyzeM7PPczc0SBAaBAgNAgQGgQIDQKEBgFCg4CRPUdbdOXqcp/eVZ9F7V67e87P/fr79Tna1me3lfv4J+uzrlOnl5b74j8ub9x+tvHB8tpe52S/nFpVX7//WOM2zB/QcUeDAKFBgNAgQGgQIDQIEBoECA0CRvYcbd+O+rxn39ofL9hzb7ioXe77b32kr8fv9Pj/c+bGmWKtX1svr05NlHv3r4f6evxB5Y4GAUKDAKFBgNAgQGgQIDQIEBoEDO052uz1ny33X9z8aLn3Oou6kC1uj5X72frjcH3ptKszutE1uP+aYIAIDQKEBgFCgwChQYDQIGCg397vrFjRuN36+PPltZuW1G9D93qT+u6DXy3341uav65u+uTJ8trOZ9aVe/vIW+XeumS8nB/73U8bt5VjS+rH7uHg6Ut6/ImjfT3+oHJHgwChQYDQIEBoECA0CBAaBAgNAgb6HG3qa9c0bnd/5IW+HvvxE1eV+4nbLyr36ZPNP0/Uy8xr++d8bavVarXe/mc533XP9sZtarI+43vk2p+Xe/eeZeU+qtzRIEBoECA0CBAaBAgNAoQGAUKDgPbm9tYF/PKxhTU23vy5q9v37Cuv/eaH658P2vTod8v98u/vKfdh1f7chnKf3ft66JUMFnc0CBAaBAgNAoQGAUKDAKFBgNAgYKA/jzb9zjuN29vd5u98/H+8O/F+X9dfyA788IuN25bNe8tr39hSf86u+dssR5s7GgQIDQKEBgFCgwChQYDQIEBoEDDQ52iV3x+/ov4DF/+5nJ+46SflPnnntvrhn/xD4zZ75kx5bb86y5eX+w03NX9m7Eer6s/ZbdgxWe5X3dvjt9tGlDsaBAgNAoQGAUKDAKFBgNAgYGjf3j/64ES5v/dQt9w3Lan/al76wc5yv3/7dY3bUy9+obx2/QNHyr178G/lfvyWjeW++/KHy535544GAUKDAKFBgNAgQGgQIDQIEBoEDPTPNvVj+YuXlvsTE78NvZL/df8/ms/gWq1W64XDV5f7dSvrc7YHLnvpA7+m//rG579e7t2/H57zYw8zdzQIEBoECA0ChAYBQoMAoUGA0CBgZM/ROivqn3VqP1PvT1/96/l8OfOq0+P/z5nWTOP27UNfKa9980v1V+XNnh3en7vqhzsaBAgNAoQGAUKDAKFBgNAgQGgQMLTf69jLzNRUuY/dsbTcb3nytnJ/Zt3TH/g1pew9M9a4Hfje+vLapWdfne+XMxLc0SBAaBAgNAgQGgQIDQKEBgFCg4CR/Txav8bGx8u9u2514/abX+0qr73xtTvKfc1H3yr3l1+5ptzX7TzauHUPHCyvZW7c0SBAaBAgNAgQGgQIDQKEBgHe3ocAdzQIEBoECA0ChAYBQoMAoUGA0CBAaBAgNAgQGgQIDQKEBgFCgwChQYDQIEBoECA0CBAaBAgNAoQGAUKDAKFBgNAgQGgQIDQIEBoECA0ChAYBQoMAoUGA0CBAaBAgNAgQGgQIDQKEBgFCgwChQYDQIEBoECA0CBAaBAgNAoQGAUKDAKFBwH8AovjmADsCX/YAAAAASUVORK5CYII=\" y=\"-6.64\"/>\n   </g>\n   <g id=\"matplotlib.axis_1\">\n    <g id=\"xtick_1\">\n     <g id=\"line2d_1\">\n      <defs>\n       <path d=\"M 0 0 \nL 0 3.5 \n\" id=\"m30f39a3e5b\" style=\"stroke:#000000;stroke-width:0.8;\"/>\n      </defs>\n      <g>\n       <use style=\"stroke:#000000;stroke-width:0.8;\" x=\"30.807857\" xlink:href=\"#m30f39a3e5b\" y=\"224.64\"/>\n      </g>\n     </g>\n     <g id=\"text_1\">\n      <!-- 0 -->\n      <g transform=\"translate(27.626607 239.238437)scale(0.1 -0.1)\">\n       <defs>\n        <path d=\"M 2034 4250 \nQ 1547 4250 1301 3770 \nQ 1056 3291 1056 2328 \nQ 1056 1369 1301 889 \nQ 1547 409 2034 409 \nQ 2525 409 2770 889 \nQ 3016 1369 3016 2328 \nQ 3016 3291 2770 3770 \nQ 2525 4250 2034 4250 \nz\nM 2034 4750 \nQ 2819 4750 3233 4129 \nQ 3647 3509 3647 2328 \nQ 3647 1150 3233 529 \nQ 2819 -91 2034 -91 \nQ 1250 -91 836 529 \nQ 422 1150 422 2328 \nQ 422 3509 836 4129 \nQ 1250 4750 2034 4750 \nz\n\" id=\"DejaVuSans-30\" transform=\"scale(0.015625)\"/>\n       </defs>\n       <use xlink:href=\"#DejaVuSans-30\"/>\n      </g>\n     </g>\n    </g>\n    <g id=\"xtick_2\">\n     <g id=\"line2d_2\">\n      <g>\n       <use style=\"stroke:#000000;stroke-width:0.8;\" x=\"69.636429\" xlink:href=\"#m30f39a3e5b\" y=\"224.64\"/>\n      </g>\n     </g>\n     <g id=\"text_2\">\n      <!-- 5 -->\n      <g transform=\"translate(66.455179 239.238437)scale(0.1 -0.1)\">\n       <defs>\n        <path d=\"M 691 4666 \nL 3169 4666 \nL 3169 4134 \nL 1269 4134 \nL 1269 2991 \nQ 1406 3038 1543 3061 \nQ 1681 3084 1819 3084 \nQ 2600 3084 3056 2656 \nQ 3513 2228 3513 1497 \nQ 3513 744 3044 326 \nQ 2575 -91 1722 -91 \nQ 1428 -91 1123 -41 \nQ 819 9 494 109 \nL 494 744 \nQ 775 591 1075 516 \nQ 1375 441 1709 441 \nQ 2250 441 2565 725 \nQ 2881 1009 2881 1497 \nQ 2881 1984 2565 2268 \nQ 2250 2553 1709 2553 \nQ 1456 2553 1204 2497 \nQ 953 2441 691 2322 \nL 691 4666 \nz\n\" id=\"DejaVuSans-35\" transform=\"scale(0.015625)\"/>\n       </defs>\n       <use xlink:href=\"#DejaVuSans-35\"/>\n      </g>\n     </g>\n    </g>\n    <g id=\"xtick_3\">\n     <g id=\"line2d_3\">\n      <g>\n       <use style=\"stroke:#000000;stroke-width:0.8;\" x=\"108.465\" xlink:href=\"#m30f39a3e5b\" y=\"224.64\"/>\n      </g>\n     </g>\n     <g id=\"text_3\">\n      <!-- 10 -->\n      <g transform=\"translate(102.1025 239.238437)scale(0.1 -0.1)\">\n       <defs>\n        <path d=\"M 794 531 \nL 1825 531 \nL 1825 4091 \nL 703 3866 \nL 703 4441 \nL 1819 4666 \nL 2450 4666 \nL 2450 531 \nL 3481 531 \nL 3481 0 \nL 794 0 \nL 794 531 \nz\n\" id=\"DejaVuSans-31\" transform=\"scale(0.015625)\"/>\n       </defs>\n       <use xlink:href=\"#DejaVuSans-31\"/>\n       <use x=\"63.623047\" xlink:href=\"#DejaVuSans-30\"/>\n      </g>\n     </g>\n    </g>\n    <g id=\"xtick_4\">\n     <g id=\"line2d_4\">\n      <g>\n       <use style=\"stroke:#000000;stroke-width:0.8;\" x=\"147.293571\" xlink:href=\"#m30f39a3e5b\" y=\"224.64\"/>\n      </g>\n     </g>\n     <g id=\"text_4\">\n      <!-- 15 -->\n      <g transform=\"translate(140.931071 239.238437)scale(0.1 -0.1)\">\n       <use xlink:href=\"#DejaVuSans-31\"/>\n       <use x=\"63.623047\" xlink:href=\"#DejaVuSans-35\"/>\n      </g>\n     </g>\n    </g>\n    <g id=\"xtick_5\">\n     <g id=\"line2d_5\">\n      <g>\n       <use style=\"stroke:#000000;stroke-width:0.8;\" x=\"186.122143\" xlink:href=\"#m30f39a3e5b\" y=\"224.64\"/>\n      </g>\n     </g>\n     <g id=\"text_5\">\n      <!-- 20 -->\n      <g transform=\"translate(179.759643 239.238437)scale(0.1 -0.1)\">\n       <defs>\n        <path d=\"M 1228 531 \nL 3431 531 \nL 3431 0 \nL 469 0 \nL 469 531 \nQ 828 903 1448 1529 \nQ 2069 2156 2228 2338 \nQ 2531 2678 2651 2914 \nQ 2772 3150 2772 3378 \nQ 2772 3750 2511 3984 \nQ 2250 4219 1831 4219 \nQ 1534 4219 1204 4116 \nQ 875 4013 500 3803 \nL 500 4441 \nQ 881 4594 1212 4672 \nQ 1544 4750 1819 4750 \nQ 2544 4750 2975 4387 \nQ 3406 4025 3406 3419 \nQ 3406 3131 3298 2873 \nQ 3191 2616 2906 2266 \nQ 2828 2175 2409 1742 \nQ 1991 1309 1228 531 \nz\n\" id=\"DejaVuSans-32\" transform=\"scale(0.015625)\"/>\n       </defs>\n       <use xlink:href=\"#DejaVuSans-32\"/>\n       <use x=\"63.623047\" xlink:href=\"#DejaVuSans-30\"/>\n      </g>\n     </g>\n    </g>\n    <g id=\"xtick_6\">\n     <g id=\"line2d_6\">\n      <g>\n       <use style=\"stroke:#000000;stroke-width:0.8;\" x=\"224.950714\" xlink:href=\"#m30f39a3e5b\" y=\"224.64\"/>\n      </g>\n     </g>\n     <g id=\"text_6\">\n      <!-- 25 -->\n      <g transform=\"translate(218.588214 239.238437)scale(0.1 -0.1)\">\n       <use xlink:href=\"#DejaVuSans-32\"/>\n       <use x=\"63.623047\" xlink:href=\"#DejaVuSans-35\"/>\n      </g>\n     </g>\n    </g>\n   </g>\n   <g id=\"matplotlib.axis_2\">\n    <g id=\"ytick_1\">\n     <g id=\"line2d_7\">\n      <defs>\n       <path d=\"M 0 0 \nL -3.5 0 \n\" id=\"ma3ac45b73e\" style=\"stroke:#000000;stroke-width:0.8;\"/>\n      </defs>\n      <g>\n       <use style=\"stroke:#000000;stroke-width:0.8;\" x=\"26.925\" xlink:href=\"#ma3ac45b73e\" y=\"11.082857\"/>\n      </g>\n     </g>\n     <g id=\"text_7\">\n      <!-- 0 -->\n      <g transform=\"translate(13.5625 14.882076)scale(0.1 -0.1)\">\n       <use xlink:href=\"#DejaVuSans-30\"/>\n      </g>\n     </g>\n    </g>\n    <g id=\"ytick_2\">\n     <g id=\"line2d_8\">\n      <g>\n       <use style=\"stroke:#000000;stroke-width:0.8;\" x=\"26.925\" xlink:href=\"#ma3ac45b73e\" y=\"49.911429\"/>\n      </g>\n     </g>\n     <g id=\"text_8\">\n      <!-- 5 -->\n      <g transform=\"translate(13.5625 53.710647)scale(0.1 -0.1)\">\n       <use xlink:href=\"#DejaVuSans-35\"/>\n      </g>\n     </g>\n    </g>\n    <g id=\"ytick_3\">\n     <g id=\"line2d_9\">\n      <g>\n       <use style=\"stroke:#000000;stroke-width:0.8;\" x=\"26.925\" xlink:href=\"#ma3ac45b73e\" y=\"88.74\"/>\n      </g>\n     </g>\n     <g id=\"text_9\">\n      <!-- 10 -->\n      <g transform=\"translate(7.2 92.539219)scale(0.1 -0.1)\">\n       <use xlink:href=\"#DejaVuSans-31\"/>\n       <use x=\"63.623047\" xlink:href=\"#DejaVuSans-30\"/>\n      </g>\n     </g>\n    </g>\n    <g id=\"ytick_4\">\n     <g id=\"line2d_10\">\n      <g>\n       <use style=\"stroke:#000000;stroke-width:0.8;\" x=\"26.925\" xlink:href=\"#ma3ac45b73e\" y=\"127.568571\"/>\n      </g>\n     </g>\n     <g id=\"text_10\">\n      <!-- 15 -->\n      <g transform=\"translate(7.2 131.36779)scale(0.1 -0.1)\">\n       <use xlink:href=\"#DejaVuSans-31\"/>\n       <use x=\"63.623047\" xlink:href=\"#DejaVuSans-35\"/>\n      </g>\n     </g>\n    </g>\n    <g id=\"ytick_5\">\n     <g id=\"line2d_11\">\n      <g>\n       <use style=\"stroke:#000000;stroke-width:0.8;\" x=\"26.925\" xlink:href=\"#ma3ac45b73e\" y=\"166.397143\"/>\n      </g>\n     </g>\n     <g id=\"text_11\">\n      <!-- 20 -->\n      <g transform=\"translate(7.2 170.196362)scale(0.1 -0.1)\">\n       <use xlink:href=\"#DejaVuSans-32\"/>\n       <use x=\"63.623047\" xlink:href=\"#DejaVuSans-30\"/>\n      </g>\n     </g>\n    </g>\n    <g id=\"ytick_6\">\n     <g id=\"line2d_12\">\n      <g>\n       <use style=\"stroke:#000000;stroke-width:0.8;\" x=\"26.925\" xlink:href=\"#ma3ac45b73e\" y=\"205.225714\"/>\n      </g>\n     </g>\n     <g id=\"text_12\">\n      <!-- 25 -->\n      <g transform=\"translate(7.2 209.024933)scale(0.1 -0.1)\">\n       <use xlink:href=\"#DejaVuSans-32\"/>\n       <use x=\"63.623047\" xlink:href=\"#DejaVuSans-35\"/>\n      </g>\n     </g>\n    </g>\n   </g>\n   <g id=\"patch_3\">\n    <path d=\"M 26.925 224.64 \nL 26.925 7.2 \n\" style=\"fill:none;stroke:#000000;stroke-linecap:square;stroke-linejoin:miter;stroke-width:0.8;\"/>\n   </g>\n   <g id=\"patch_4\">\n    <path d=\"M 244.365 224.64 \nL 244.365 7.2 \n\" style=\"fill:none;stroke:#000000;stroke-linecap:square;stroke-linejoin:miter;stroke-width:0.8;\"/>\n   </g>\n   <g id=\"patch_5\">\n    <path d=\"M 26.925 224.64 \nL 244.365 224.64 \n\" style=\"fill:none;stroke:#000000;stroke-linecap:square;stroke-linejoin:miter;stroke-width:0.8;\"/>\n   </g>\n   <g id=\"patch_6\">\n    <path d=\"M 26.925 7.2 \nL 244.365 7.2 \n\" style=\"fill:none;stroke:#000000;stroke-linecap:square;stroke-linejoin:miter;stroke-width:0.8;\"/>\n   </g>\n  </g>\n </g>\n <defs>\n  <clipPath id=\"pca23bbb703\">\n   <rect height=\"217.44\" width=\"217.44\" x=\"26.925\" y=\"7.2\"/>\n  </clipPath>\n </defs>\n</svg>\n",
      "image/png": "[encoded data removed]"
     },
     "metadata": {
      "needs_background": "light"
     }
    },
    {
     "output_type": "stream",
     "name": "stdout",
     "text": [
      "Prediction:  [4]\nLabel:  2\n"
     ]
    },
    {
     "output_type": "display_data",
     "data": {
      "text/plain": "<Figure size 432x288 with 1 Axes>",
      "image/svg+xml": "<?xml version=\"1.0\" encoding=\"utf-8\" standalone=\"no\"?>\n<!DOCTYPE svg PUBLIC \"-//W3C//DTD SVG 1.1//EN\"\n  \"http://www.w3.org/Graphics/SVG/1.1/DTD/svg11.dtd\">\n<svg height=\"248.518125pt\" version=\"1.1\" viewBox=\"0 0 251.565 248.518125\" width=\"251.565pt\" xmlns=\"http://www.w3.org/2000/svg\" xmlns:xlink=\"http://www.w3.org/1999/xlink\">\n <metadata>\n  <rdf:RDF xmlns:cc=\"http://creativecommons.org/ns#\" xmlns:dc=\"http://purl.org/dc/elements/1.1/\" xmlns:rdf=\"http://www.w3.org/1999/02/22-rdf-syntax-ns#\">\n   <cc:Work>\n    <dc:type rdf:resource=\"http://purl.org/dc/dcmitype/StillImage\"/>\n    <dc:date>2021-08-28T23:35:52.777315</dc:date>\n    <dc:format>image/svg+xml</dc:format>\n    <dc:creator>\n     <cc:Agent>\n      <dc:title>Matplotlib v3.4.2, https://matplotlib.org/</dc:title>\n     </cc:Agent>\n    </dc:creator>\n   </cc:Work>\n  </rdf:RDF>\n </metadata>\n <defs>\n  <style type=\"text/css\">*{stroke-linecap:butt;stroke-linejoin:round;}</style>\n </defs>\n <g id=\"figure_1\">\n  <g id=\"patch_1\">\n   <path d=\"M 0 248.518125 \nL 251.565 248.518125 \nL 251.565 0 \nL 0 0 \nz\n\" style=\"fill:none;\"/>\n  </g>\n  <g id=\"axes_1\">\n   <g id=\"patch_2\">\n    <path d=\"M 26.925 224.64 \nL 244.365 224.64 \nL 244.365 7.2 \nL 26.925 7.2 \nz\n\" style=\"fill:#ffffff;\"/>\n   </g>\n   <g clip-path=\"url(#p6bc4100818)\">\n    <image height=\"218\" id=\"image29798d19f0\" transform=\"scale(1 -1)translate(0 -218)\" width=\"218\" x=\"26.925\" xlink:href=\"data:image/png;base64,\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\" y=\"-6.64\"/>\n   </g>\n   <g id=\"matplotlib.axis_1\">\n    <g id=\"xtick_1\">\n     <g id=\"line2d_1\">\n      <defs>\n       <path d=\"M 0 0 \nL 0 3.5 \n\" id=\"m7cdf650594\" style=\"stroke:#000000;stroke-width:0.8;\"/>\n      </defs>\n      <g>\n       <use style=\"stroke:#000000;stroke-width:0.8;\" x=\"30.807857\" xlink:href=\"#m7cdf650594\" y=\"224.64\"/>\n      </g>\n     </g>\n     <g id=\"text_1\">\n      <!-- 0 -->\n      <g transform=\"translate(27.626607 239.238437)scale(0.1 -0.1)\">\n       <defs>\n        <path d=\"M 2034 4250 \nQ 1547 4250 1301 3770 \nQ 1056 3291 1056 2328 \nQ 1056 1369 1301 889 \nQ 1547 409 2034 409 \nQ 2525 409 2770 889 \nQ 3016 1369 3016 2328 \nQ 3016 3291 2770 3770 \nQ 2525 4250 2034 4250 \nz\nM 2034 4750 \nQ 2819 4750 3233 4129 \nQ 3647 3509 3647 2328 \nQ 3647 1150 3233 529 \nQ 2819 -91 2034 -91 \nQ 1250 -91 836 529 \nQ 422 1150 422 2328 \nQ 422 3509 836 4129 \nQ 1250 4750 2034 4750 \nz\n\" id=\"DejaVuSans-30\" transform=\"scale(0.015625)\"/>\n       </defs>\n       <use xlink:href=\"#DejaVuSans-30\"/>\n      </g>\n     </g>\n    </g>\n    <g id=\"xtick_2\">\n     <g id=\"line2d_2\">\n      <g>\n       <use style=\"stroke:#000000;stroke-width:0.8;\" x=\"69.636429\" xlink:href=\"#m7cdf650594\" y=\"224.64\"/>\n      </g>\n     </g>\n     <g id=\"text_2\">\n      <!-- 5 -->\n      <g transform=\"translate(66.455179 239.238437)scale(0.1 -0.1)\">\n       <defs>\n        <path d=\"M 691 4666 \nL 3169 4666 \nL 3169 4134 \nL 1269 4134 \nL 1269 2991 \nQ 1406 3038 1543 3061 \nQ 1681 3084 1819 3084 \nQ 2600 3084 3056 2656 \nQ 3513 2228 3513 1497 \nQ 3513 744 3044 326 \nQ 2575 -91 1722 -91 \nQ 1428 -91 1123 -41 \nQ 819 9 494 109 \nL 494 744 \nQ 775 591 1075 516 \nQ 1375 441 1709 441 \nQ 2250 441 2565 725 \nQ 2881 1009 2881 1497 \nQ 2881 1984 2565 2268 \nQ 2250 2553 1709 2553 \nQ 1456 2553 1204 2497 \nQ 953 2441 691 2322 \nL 691 4666 \nz\n\" id=\"DejaVuSans-35\" transform=\"scale(0.015625)\"/>\n       </defs>\n       <use xlink:href=\"#DejaVuSans-35\"/>\n      </g>\n     </g>\n    </g>\n    <g id=\"xtick_3\">\n     <g id=\"line2d_3\">\n      <g>\n       <use style=\"stroke:#000000;stroke-width:0.8;\" x=\"108.465\" xlink:href=\"#m7cdf650594\" y=\"224.64\"/>\n      </g>\n     </g>\n     <g id=\"text_3\">\n      <!-- 10 -->\n      <g transform=\"translate(102.1025 239.238437)scale(0.1 -0.1)\">\n       <defs>\n        <path d=\"M 794 531 \nL 1825 531 \nL 1825 4091 \nL 703 3866 \nL 703 4441 \nL 1819 4666 \nL 2450 4666 \nL 2450 531 \nL 3481 531 \nL 3481 0 \nL 794 0 \nL 794 531 \nz\n\" id=\"DejaVuSans-31\" transform=\"scale(0.015625)\"/>\n       </defs>\n       <use xlink:href=\"#DejaVuSans-31\"/>\n       <use x=\"63.623047\" xlink:href=\"#DejaVuSans-30\"/>\n      </g>\n     </g>\n    </g>\n    <g id=\"xtick_4\">\n     <g id=\"line2d_4\">\n      <g>\n       <use style=\"stroke:#000000;stroke-width:0.8;\" x=\"147.293571\" xlink:href=\"#m7cdf650594\" y=\"224.64\"/>\n      </g>\n     </g>\n     <g id=\"text_4\">\n      <!-- 15 -->\n      <g transform=\"translate(140.931071 239.238437)scale(0.1 -0.1)\">\n       <use xlink:href=\"#DejaVuSans-31\"/>\n       <use x=\"63.623047\" xlink:href=\"#DejaVuSans-35\"/>\n      </g>\n     </g>\n    </g>\n    <g id=\"xtick_5\">\n     <g id=\"line2d_5\">\n      <g>\n       <use style=\"stroke:#000000;stroke-width:0.8;\" x=\"186.122143\" xlink:href=\"#m7cdf650594\" y=\"224.64\"/>\n      </g>\n     </g>\n     <g id=\"text_5\">\n      <!-- 20 -->\n      <g transform=\"translate(179.759643 239.238437)scale(0.1 -0.1)\">\n       <defs>\n        <path d=\"M 1228 531 \nL 3431 531 \nL 3431 0 \nL 469 0 \nL 469 531 \nQ 828 903 1448 1529 \nQ 2069 2156 2228 2338 \nQ 2531 2678 2651 2914 \nQ 2772 3150 2772 3378 \nQ 2772 3750 2511 3984 \nQ 2250 4219 1831 4219 \nQ 1534 4219 1204 4116 \nQ 875 4013 500 3803 \nL 500 4441 \nQ 881 4594 1212 4672 \nQ 1544 4750 1819 4750 \nQ 2544 4750 2975 4387 \nQ 3406 4025 3406 3419 \nQ 3406 3131 3298 2873 \nQ 3191 2616 2906 2266 \nQ 2828 2175 2409 1742 \nQ 1991 1309 1228 531 \nz\n\" id=\"DejaVuSans-32\" transform=\"scale(0.015625)\"/>\n       </defs>\n       <use xlink:href=\"#DejaVuSans-32\"/>\n       <use x=\"63.623047\" xlink:href=\"#DejaVuSans-30\"/>\n      </g>\n     </g>\n    </g>\n    <g id=\"xtick_6\">\n     <g id=\"line2d_6\">\n      <g>\n       <use style=\"stroke:#000000;stroke-width:0.8;\" x=\"224.950714\" xlink:href=\"#m7cdf650594\" y=\"224.64\"/>\n      </g>\n     </g>\n     <g id=\"text_6\">\n      <!-- 25 -->\n      <g transform=\"translate(218.588214 239.238437)scale(0.1 -0.1)\">\n       <use xlink:href=\"#DejaVuSans-32\"/>\n       <use x=\"63.623047\" xlink:href=\"#DejaVuSans-35\"/>\n      </g>\n     </g>\n    </g>\n   </g>\n   <g id=\"matplotlib.axis_2\">\n    <g id=\"ytick_1\">\n     <g id=\"line2d_7\">\n      <defs>\n       <path d=\"M 0 0 \nL -3.5 0 \n\" id=\"mc30c1e3fd2\" style=\"stroke:#000000;stroke-width:0.8;\"/>\n      </defs>\n      <g>\n       <use style=\"stroke:#000000;stroke-width:0.8;\" x=\"26.925\" xlink:href=\"#mc30c1e3fd2\" y=\"11.082857\"/>\n      </g>\n     </g>\n     <g id=\"text_7\">\n      <!-- 0 -->\n      <g transform=\"translate(13.5625 14.882076)scale(0.1 -0.1)\">\n       <use xlink:href=\"#DejaVuSans-30\"/>\n      </g>\n     </g>\n    </g>\n    <g id=\"ytick_2\">\n     <g id=\"line2d_8\">\n      <g>\n       <use style=\"stroke:#000000;stroke-width:0.8;\" x=\"26.925\" xlink:href=\"#mc30c1e3fd2\" y=\"49.911429\"/>\n      </g>\n     </g>\n     <g id=\"text_8\">\n      <!-- 5 -->\n      <g transform=\"translate(13.5625 53.710647)scale(0.1 -0.1)\">\n       <use xlink:href=\"#DejaVuSans-35\"/>\n      </g>\n     </g>\n    </g>\n    <g id=\"ytick_3\">\n     <g id=\"line2d_9\">\n      <g>\n       <use style=\"stroke:#000000;stroke-width:0.8;\" x=\"26.925\" xlink:href=\"#mc30c1e3fd2\" y=\"88.74\"/>\n      </g>\n     </g>\n     <g id=\"text_9\">\n      <!-- 10 -->\n      <g transform=\"translate(7.2 92.539219)scale(0.1 -0.1)\">\n       <use xlink:href=\"#DejaVuSans-31\"/>\n       <use x=\"63.623047\" xlink:href=\"#DejaVuSans-30\"/>\n      </g>\n     </g>\n    </g>\n    <g id=\"ytick_4\">\n     <g id=\"line2d_10\">\n      <g>\n       <use style=\"stroke:#000000;stroke-width:0.8;\" x=\"26.925\" xlink:href=\"#mc30c1e3fd2\" y=\"127.568571\"/>\n      </g>\n     </g>\n     <g id=\"text_10\">\n      <!-- 15 -->\n      <g transform=\"translate(7.2 131.36779)scale(0.1 -0.1)\">\n       <use xlink:href=\"#DejaVuSans-31\"/>\n       <use x=\"63.623047\" xlink:href=\"#DejaVuSans-35\"/>\n      </g>\n     </g>\n    </g>\n    <g id=\"ytick_5\">\n     <g id=\"line2d_11\">\n      <g>\n       <use style=\"stroke:#000000;stroke-width:0.8;\" x=\"26.925\" xlink:href=\"#mc30c1e3fd2\" y=\"166.397143\"/>\n      </g>\n     </g>\n     <g id=\"text_11\">\n      <!-- 20 -->\n      <g transform=\"translate(7.2 170.196362)scale(0.1 -0.1)\">\n       <use xlink:href=\"#DejaVuSans-32\"/>\n       <use x=\"63.623047\" xlink:href=\"#DejaVuSans-30\"/>\n      </g>\n     </g>\n    </g>\n    <g id=\"ytick_6\">\n     <g id=\"line2d_12\">\n      <g>\n       <use style=\"stroke:#000000;stroke-width:0.8;\" x=\"26.925\" xlink:href=\"#mc30c1e3fd2\" y=\"205.225714\"/>\n      </g>\n     </g>\n     <g id=\"text_12\">\n      <!-- 25 -->\n      <g transform=\"translate(7.2 209.024933)scale(0.1 -0.1)\">\n       <use xlink:href=\"#DejaVuSans-32\"/>\n       <use x=\"63.623047\" xlink:href=\"#DejaVuSans-35\"/>\n      </g>\n     </g>\n    </g>\n   </g>\n   <g id=\"patch_3\">\n    <path d=\"M 26.925 224.64 \nL 26.925 7.2 \n\" style=\"fill:none;stroke:#000000;stroke-linecap:square;stroke-linejoin:miter;stroke-width:0.8;\"/>\n   </g>\n   <g id=\"patch_4\">\n    <path d=\"M 244.365 224.64 \nL 244.365 7.2 \n\" style=\"fill:none;stroke:#000000;stroke-linecap:square;stroke-linejoin:miter;stroke-width:0.8;\"/>\n   </g>\n   <g id=\"patch_5\">\n    <path d=\"M 26.925 224.64 \nL 244.365 224.64 \n\" style=\"fill:none;stroke:#000000;stroke-linecap:square;stroke-linejoin:miter;stroke-width:0.8;\"/>\n   </g>\n   <g id=\"patch_6\">\n    <path d=\"M 26.925 7.2 \nL 244.365 7.2 \n\" style=\"fill:none;stroke:#000000;stroke-linecap:square;stroke-linejoin:miter;stroke-width:0.8;\"/>\n   </g>\n  </g>\n </g>\n <defs>\n  <clipPath id=\"p6bc4100818\">\n   <rect height=\"217.44\" width=\"217.44\" x=\"26.925\" y=\"7.2\"/>\n  </clipPath>\n </defs>\n</svg>\n",
      "image/png": "[encoded data removed]"
     },
     "metadata": {
      "needs_background": "light"
     }
    }
   ],
   "source": [
    "test_prediction(0, W1, b1, W2, b2)\n",
    "test_prediction(1, W1, b1, W2, b2)\n",
    "test_prediction(2, W1, b1, W2, b2)\n",
    "test_prediction(3, W1, b1, W2, b2)"
   ]
  },
  {
   "cell_type": "code",
   "execution_count": 19,
   "metadata": {},
   "outputs": [
    {
     "output_type": "stream",
     "name": "stdout",
     "text": [
      "[0 9 2 1 6 6 0 5 9 3 4 8 4 0 9 2 2 5 1 1 4 9 6 0 0 6 7 0 3 6 3 1 0 8 7 6 2\n 9 4 0 4 4 5 7 9 6 9 6 8 2 6 1 3 9 3 7 0 8 6 3 8 2 3 1 8 8 7 2 6 0 9 9 0 2\n 3 6 6 3 3 2 3 2 5 7 9 6 8 3 5 0 0 0 8 7 6 8 7 0 8 3 1 0 1 7 3 9 4 3 1 4 8\n 3 9 2 6 4 9 1 3 5 4 5 6 4 9 8 9 2 0 0 5 2 7 5 1 4 3 3 1 5 2 6 0 9 1 6 3 5\n 4 9 1 7 2 9 9 5 9 3 6 9 4 9 2 3 3 3 8 3 8 5 7 7 0 3 9 6 8 7 1 5 0 3 9 6 1\n 8 2 7 3 4 9 4 4 1 0 0 4 6 8 1 0 6 9 7 7 8 2 1 7 7 1 6 0 7 2 8 8 3 2 7 3 8\n 7 9 2 2 3 1 1 3 0 1 3 6 3 9 3 2 2 9 0 1 4 4 3 0 9 7 5 3 8 0 9 1 9 3 7 1 5\n 4 1 4 0 3 8 1 7 7 3 0 0 8 5 5 4 4 7 7 7 3 2 7 4 1 2 5 9 8 5 2 3 5 9 4 8 8\n 2 3 3 1 9 7 8 0 4 0 4 5 8 2 2 8 3 2 4 6 2 4 5 3 7 9 8 4 3 0 0 8 6 0 7 0 0\n 8 4 1 1 1 1 4 2 2 5 9 4 8 9 1 2 3 7 3 6 6 2 3 4 2 9 9 7 7 9 4 6 6 5 5 1 7\n 6 7 2 7 0 5 5 6 2 4 0 7 2 4 6 5 9 9 4 2 2 7 0 0 7 2 6 2 3 3 6 4 3 0 3 5 3\n 5 7 7 3 0 7 6 1 2 8 9 7 7 5 7 7 9 5 6 0 4 0 6 8 8 5 8 8 9 8 0 9 4 1 3 0 0\n 4 9 0 1 5 6 1 9 1 9 5 7 4 4 1 2 6 2 4 6 5 5 2 7 0 3 1 9 5 0 0 8 9 6 4 2 1\n 6 0 2 3 0 7 1 3 2 3 4 2 1 9 1 8 3 1 4 9 8 7 5 0 6 6 8 2 2 9 4 0 8 7 9 1 9\n 7 0 0 5 0 6 3 7 8 9 9 8 1 6 4 5 3 6 9 2 7 1 3 9 4 9 5 4 1 9 5 2 6 8 2 6 0\n 5 8 7 3 7 6 1 6 7 1 8 3 4 7 4 2 7 2 2 1 2 2 9 4 7 1 1 9 4 1 3 5 9 4 5 8 1\n 6 0 2 8 8 4 3 6 8 2 7 0 0 5 8 4 6 0 4 8 8 5 3 5 8 7 8 1 8 2 4 4 6 9 1 1 7\n 1 7 5 8 3 6 5 7 5 0 2 3 1 5 9 1 0 2 1 8 8 9 4 5 9 7 3 7 3 2 1 8 0 2 9 8 9\n 4 0 1 7 8 0 0 6 9 1 2 5 0 1 7 2 5 9 1 6 0 7 4 8 8 7 1 5 8 6 3 6 4 9 2 9 8\n 4 3 8 1 5 8 8 1 1 3 4 2 2 8 8 0 9 4 0 0 7 0 6 9 7 0 5 8 9 5 9 8 2 7 6 4 9\n 9 9 3 7 7 4 2 7 8 2 3 1 7 2 7 9 9 8 4 4 7 9 6 8 7 3 2 4 7 4 1 8 6 2 2 8 3\n 9 3 0 5 4 0 1 7 5 8 5 1 5 0 1 6 7 1 0 3 0 5 5 2 1 6 7 8 3 2 4 8 6 0 1 8 9\n 1 2 5 7 3 3 3 8 2 3 9 0 6 6 1 4 5 0 6 4 5 5 5 7 3 0 2 3 4 4 5 0 3 3 6 0 5\n 8 6 6 5 3 7 9 3 3 0 0 9 8 7 6 9 4 1 1 9 3 8 3 1 6 9 5 1 5 5 6 1 3 1 4 9 9\n 9 4 7 6 2 1 6 5 7 6 3 6 7 5 9 5 0 3 1 2 0 1 4 4 8 5 8 1 2 2 5 5 6 7 6 1 4\n 0 9 5 1 0 6 7 6 5 0 6 9 7 9 3 5 5 2 7 4 2 1 1 5 4 9 9 3 9 3 4 9 8 1 0 5 7\n 5 4 0 9 1 6 6 2 8 7 8 6 3 8 7 1 8 7 7 8 5 5 6 9 1 4 7 4 0 5 7 8 4 7 3 0 5\n 7] [0 9 8 1 6 6 0 3 9 3 8 8 4 0 8 3 2 5 8 1 4 9 6 0 0 6 7 0 3 6 3 1 0 8 7 6 8\n 9 4 0 4 4 5 7 9 6 9 6 8 2 6 1 3 9 3 7 0 8 6 6 8 2 3 1 8 8 7 2 6 0 9 9 0 2\n 3 6 6 3 3 2 3 2 5 7 9 6 8 0 5 0 0 0 8 7 6 8 1 0 8 2 1 0 1 7 3 4 4 3 1 4 8\n 3 3 2 6 4 9 1 3 7 4 5 6 4 9 7 4 2 0 5 5 2 7 2 1 4 2 5 1 5 2 6 0 9 1 6 3 5\n 4 9 1 7 2 3 8 0 9 3 6 9 4 9 2 3 3 3 8 3 8 5 7 7 0 8 9 6 8 9 1 5 0 3 9 6 1\n 5 2 7 3 4 9 9 4 4 0 0 4 6 8 1 0 6 9 7 7 8 2 1 7 7 8 6 0 7 2 8 3 8 2 7 8 8\n 7 9 2 2 3 1 1 3 0 1 3 6 3 9 3 2 2 9 3 1 4 4 8 5 7 7 5 3 8 0 9 1 4 9 7 1 5\n 4 1 4 0 2 5 1 7 7 5 0 0 8 5 5 4 4 7 7 9 3 2 7 4 1 2 8 9 8 5 2 3 3 9 4 8 9\n 2 3 8 1 4 7 8 0 4 0 4 5 8 2 2 8 3 2 4 6 2 4 5 3 7 7 5 4 2 0 0 8 6 0 7 3 0\n 8 4 1 1 1 1 5 2 2 3 9 4 8 9 1 2 3 7 3 6 6 6 3 4 2 9 9 9 7 4 4 6 6 6 5 8 7\n 6 7 2 7 0 5 8 6 8 4 0 7 2 4 6 5 9 9 4 2 2 7 0 0 9 2 6 2 3 3 6 4 3 0 3 5 3\n 5 7 7 3 9 2 6 1 7 8 4 7 7 5 7 7 9 5 6 0 4 0 6 8 8 3 8 8 9 8 0 9 4 1 3 0 0\n 4 3 0 8 5 6 1 9 1 7 5 7 9 4 4 2 6 2 4 6 5 5 2 7 0 3 1 7 5 0 0 8 9 6 4 2 1\n 6 0 2 3 0 7 1 3 2 3 4 3 1 9 1 4 3 1 4 6 3 7 6 0 6 6 8 0 2 9 4 0 8 7 9 1 4\n 7 0 0 5 0 6 3 7 8 9 9 8 1 6 9 5 3 6 9 2 7 1 3 7 4 9 3 4 1 9 5 2 6 8 2 6 5\n 5 8 7 3 7 6 1 6 7 1 8 3 4 9 5 2 7 2 2 1 2 2 4 4 7 9 1 7 6 1 3 5 5 4 5 2 1\n 6 0 2 8 8 4 3 6 8 2 7 0 0 5 8 4 6 0 4 8 8 5 3 6 8 7 8 1 8 2 4 4 6 9 1 1 3\n 1 7 5 1 3 5 8 7 8 0 8 3 1 5 7 1 0 2 1 5 8 9 4 5 9 7 7 7 3 2 1 8 0 2 9 8 4\n 4 0 1 7 8 0 0 6 9 1 2 3 0 1 7 2 2 9 1 6 0 9 4 5 1 7 1 5 8 6 3 6 9 9 2 9 8\n 4 3 8 1 5 8 8 1 2 3 4 2 2 5 6 0 9 4 0 0 7 0 6 9 2 0 5 1 9 5 9 8 2 7 6 4 9\n 9 9 3 7 7 4 2 5 8 2 3 1 9 2 7 9 9 2 4 4 7 9 6 8 7 3 2 4 7 4 7 8 6 2 2 8 3\n 9 3 0 5 4 0 1 7 5 5 5 1 3 0 1 6 7 1 0 1 0 3 8 2 1 6 7 8 3 2 5 8 6 0 1 8 9\n 1 2 5 4 5 8 5 8 2 3 7 0 6 6 1 4 8 0 6 5 5 5 5 9 3 0 2 3 4 4 5 0 3 3 6 0 5\n 8 6 6 6 3 7 9 3 3 0 0 9 8 7 6 7 4 1 1 4 3 8 3 1 6 7 5 1 5 5 6 1 3 1 5 9 9\n 9 4 7 6 2 1 6 8 7 6 8 6 7 5 9 8 0 3 1 3 0 1 4 2 8 7 8 4 2 2 5 5 6 7 6 1 4\n 0 9 5 8 0 6 7 6 3 0 6 9 9 9 3 5 6 2 7 4 2 1 1 8 4 9 9 3 9 9 2 7 8 8 0 5 7\n 8 4 0 7 9 4 6 2 0 7 8 6 3 8 4 1 8 7 7 8 5 5 6 7 1 9 7 2 2 6 7 1 4 7 7 0 8\n 7]\n"
     ]
    }
   ],
   "source": [
    "val_predictions = make_predictions(val_X,W1,b1,W2,b2)\n",
    "accuracy = get_accuracy(val_predictions,val_y)"
   ]
  },
  {
   "cell_type": "code",
   "execution_count": 20,
   "metadata": {},
   "outputs": [
    {
     "output_type": "stream",
     "name": "stdout",
     "text": [
      "Validation Accuracy:  0.834\n"
     ]
    }
   ],
   "source": [
    "print(\"Validation Accuracy(%): \",accuracy*100)"
   ]
  },
  {
   "cell_type": "code",
   "execution_count": null,
   "metadata": {},
   "outputs": [],
   "source": []
  },
  {
   "cell_type": "code",
   "execution_count": null,
   "metadata": {},
   "outputs": [],
   "source": []
  }
 ]
}